{
 "cells": [
  {
   "cell_type": "code",
   "execution_count": 2,
   "metadata": {},
   "outputs": [],
   "source": [
    "import tensorflow as tf\n",
    "from keras import layers, activations, losses, optimizers, Model\n",
    "from CustomLayer import TransformerBlock\n",
    "import numpy as np"
   ]
  },
  {
   "cell_type": "code",
   "execution_count": 2,
   "metadata": {},
   "outputs": [],
   "source": [
    "feature_path = './dataset/data_feature.npy'\n",
    "label_path = './dataset/data_label.npy'\n",
    "x_train = np.load(feature_path)\n",
    "y_train = np.load(label_path)"
   ]
  },
  {
   "cell_type": "code",
   "execution_count": 8,
   "metadata": {},
   "outputs": [
    {
     "name": "stdout",
     "output_type": "stream",
     "text": [
      "(34424, 7, 113)\n",
      "(34424, 1)\n"
     ]
    }
   ],
   "source": [
    "print(x_train.shape)\n",
    "print(y_train.shape)"
   ]
  },
  {
   "cell_type": "markdown",
   "metadata": {},
   "source": [
    "# Model"
   ]
  },
  {
   "cell_type": "markdown",
   "metadata": {},
   "source": [
    "## Raw Data"
   ]
  },
  {
   "cell_type": "code",
   "execution_count": 3,
   "metadata": {},
   "outputs": [],
   "source": [
    "inputs = layers.Input((7, 113))\n",
    "x = layers.LSTM(113, return_sequences=True)(inputs)\n",
    "x = layers.Flatten()(x)\n",
    "outputs = layers.Dense(1, activation=activations.sigmoid)(x)\n",
    "RNNBased = Model(inputs, outputs)"
   ]
  },
  {
   "cell_type": "code",
   "execution_count": 4,
   "metadata": {},
   "outputs": [
    {
     "name": "stdout",
     "output_type": "stream",
     "text": [
      "Model: \"model\"\n",
      "_________________________________________________________________\n",
      " Layer (type)                Output Shape              Param #   \n",
      "=================================================================\n",
      " input_1 (InputLayer)        [(None, 7, 113)]          0         \n",
      "                                                                 \n",
      " lstm (LSTM)                 (None, 7, 113)            102604    \n",
      "                                                                 \n",
      " flatten (Flatten)           (None, 791)               0         \n",
      "                                                                 \n",
      " dense (Dense)               (None, 1)                 792       \n",
      "                                                                 \n",
      "=================================================================\n",
      "Total params: 103,396\n",
      "Trainable params: 103,396\n",
      "Non-trainable params: 0\n",
      "_________________________________________________________________\n"
     ]
    }
   ],
   "source": [
    "RNNBased.summary()"
   ]
  },
  {
   "cell_type": "code",
   "execution_count": 5,
   "metadata": {},
   "outputs": [],
   "source": [
    "RNNBased.compile(loss='BinaryCrossentropy', optimizer=optimizers.adam_v2.Adam(), metrics=['accuracy'])"
   ]
  },
  {
   "cell_type": "code",
   "execution_count": 6,
   "metadata": {},
   "outputs": [
    {
     "name": "stdout",
     "output_type": "stream",
     "text": [
      "Epoch 1/20\n",
      "269/269 [==============================] - 16s 5ms/step - loss: 0.3312 - accuracy: 0.8247\n",
      "Epoch 2/20\n",
      "269/269 [==============================] - 1s 5ms/step - loss: 0.2871 - accuracy: 0.8339\n",
      "Epoch 3/20\n",
      "269/269 [==============================] - 1s 5ms/step - loss: 0.2858 - accuracy: 0.8337\n",
      "Epoch 4/20\n",
      "269/269 [==============================] - 1s 5ms/step - loss: 0.2852 - accuracy: 0.8340\n",
      "Epoch 5/20\n",
      "269/269 [==============================] - 1s 5ms/step - loss: 0.2852 - accuracy: 0.8355\n",
      "Epoch 6/20\n",
      "269/269 [==============================] - 1s 5ms/step - loss: 0.2838 - accuracy: 0.8349\n",
      "Epoch 7/20\n",
      "269/269 [==============================] - 1s 5ms/step - loss: 0.2834 - accuracy: 0.8357\n",
      "Epoch 8/20\n",
      "269/269 [==============================] - 1s 5ms/step - loss: 0.2828 - accuracy: 0.8358\n",
      "Epoch 9/20\n",
      "269/269 [==============================] - 1s 5ms/step - loss: 0.2830 - accuracy: 0.8351\n",
      "Epoch 10/20\n",
      "269/269 [==============================] - 1s 5ms/step - loss: 0.2830 - accuracy: 0.8349\n",
      "Epoch 11/20\n",
      "269/269 [==============================] - 1s 5ms/step - loss: 0.2828 - accuracy: 0.8349\n",
      "Epoch 12/20\n",
      "269/269 [==============================] - 1s 5ms/step - loss: 0.2828 - accuracy: 0.8352\n",
      "Epoch 13/20\n",
      "269/269 [==============================] - 1s 5ms/step - loss: 0.2829 - accuracy: 0.8361\n",
      "Epoch 14/20\n",
      "269/269 [==============================] - 1s 5ms/step - loss: 0.2833 - accuracy: 0.8347\n",
      "Epoch 15/20\n",
      "269/269 [==============================] - 1s 5ms/step - loss: 0.2827 - accuracy: 0.8347\n",
      "Epoch 16/20\n",
      "269/269 [==============================] - 1s 5ms/step - loss: 0.2823 - accuracy: 0.8356\n",
      "Epoch 17/20\n",
      "269/269 [==============================] - 1s 5ms/step - loss: 0.2824 - accuracy: 0.8358\n",
      "Epoch 18/20\n",
      "269/269 [==============================] - 1s 5ms/step - loss: 0.2819 - accuracy: 0.8367\n",
      "Epoch 19/20\n",
      "269/269 [==============================] - 1s 5ms/step - loss: 0.2819 - accuracy: 0.8362\n",
      "Epoch 20/20\n",
      "269/269 [==============================] - 1s 5ms/step - loss: 0.2810 - accuracy: 0.8359\n"
     ]
    },
    {
     "data": {
      "text/plain": [
       "<keras.callbacks.History at 0x15f51139a50>"
      ]
     },
     "execution_count": 6,
     "metadata": {},
     "output_type": "execute_result"
    }
   ],
   "source": [
    "RNNBased.fit(x = x_train,y = y_train, epochs= 20, batch_size=128)"
   ]
  },
  {
   "cell_type": "markdown",
   "metadata": {},
   "source": [
    "# Clear Data"
   ]
  },
  {
   "cell_type": "code",
   "execution_count": 3,
   "metadata": {},
   "outputs": [
    {
     "name": "stdout",
     "output_type": "stream",
     "text": [
      "(21364, 7, 113)\n",
      "(21364, 1)\n"
     ]
    }
   ],
   "source": [
    "feature_path = './dataset/data_feature_clear.npy'\n",
    "label_path = './dataset/data_label_clear.npy'\n",
    "x_train = np.load(feature_path)\n",
    "y_train = np.load(label_path)\n",
    "print(x_train.shape)\n",
    "print(y_train.shape)"
   ]
  },
  {
   "cell_type": "code",
   "execution_count": 4,
   "metadata": {},
   "outputs": [],
   "source": [
    "inputs = layers.Input((7, 113))\n",
    "x = layers.LSTM(113, return_sequences=True)(inputs)\n",
    "x = layers.Flatten()(x)\n",
    "outputs = layers.Dense(1, activation=activations.sigmoid)(x)\n",
    "RNNBased = Model(inputs, outputs)"
   ]
  },
  {
   "cell_type": "code",
   "execution_count": 5,
   "metadata": {},
   "outputs": [
    {
     "name": "stdout",
     "output_type": "stream",
     "text": [
      "Model: \"model\"\n",
      "_________________________________________________________________\n",
      " Layer (type)                Output Shape              Param #   \n",
      "=================================================================\n",
      " input_1 (InputLayer)        [(None, 7, 113)]          0         \n",
      "                                                                 \n",
      " lstm (LSTM)                 (None, 7, 113)            102604    \n",
      "                                                                 \n",
      " flatten (Flatten)           (None, 791)               0         \n",
      "                                                                 \n",
      " dense (Dense)               (None, 1)                 792       \n",
      "                                                                 \n",
      "=================================================================\n",
      "Total params: 103,396\n",
      "Trainable params: 103,396\n",
      "Non-trainable params: 0\n",
      "_________________________________________________________________\n"
     ]
    }
   ],
   "source": [
    "RNNBased.summary()"
   ]
  },
  {
   "cell_type": "code",
   "execution_count": 7,
   "metadata": {},
   "outputs": [],
   "source": [
    "RNNBased.compile(loss='BinaryCrossentropy', optimizer=optimizers.adam_v2.Adam(), metrics=['accuracy'])"
   ]
  },
  {
   "cell_type": "code",
   "execution_count": 8,
   "metadata": {},
   "outputs": [
    {
     "name": "stdout",
     "output_type": "stream",
     "text": [
      "Epoch 1/20\n",
      "167/167 [==============================] - 11s 6ms/step - loss: 0.4964 - accuracy: 0.7104\n",
      "Epoch 2/20\n",
      "167/167 [==============================] - 1s 5ms/step - loss: 0.4642 - accuracy: 0.7288\n",
      "Epoch 3/20\n",
      "167/167 [==============================] - 1s 6ms/step - loss: 0.4605 - accuracy: 0.7320\n",
      "Epoch 4/20\n",
      "167/167 [==============================] - 1s 6ms/step - loss: 0.4580 - accuracy: 0.7331\n",
      "Epoch 5/20\n",
      "167/167 [==============================] - 1s 6ms/step - loss: 0.4567 - accuracy: 0.7332\n",
      "Epoch 6/20\n",
      "167/167 [==============================] - 1s 5ms/step - loss: 0.4560 - accuracy: 0.7339\n",
      "Epoch 7/20\n",
      "167/167 [==============================] - 1s 5ms/step - loss: 0.4547 - accuracy: 0.7365\n",
      "Epoch 8/20\n",
      "167/167 [==============================] - 1s 6ms/step - loss: 0.4564 - accuracy: 0.7344\n",
      "Epoch 9/20\n",
      "167/167 [==============================] - 1s 6ms/step - loss: 0.4542 - accuracy: 0.7349\n",
      "Epoch 10/20\n",
      "167/167 [==============================] - 1s 5ms/step - loss: 0.4539 - accuracy: 0.7357\n",
      "Epoch 11/20\n",
      "167/167 [==============================] - 1s 5ms/step - loss: 0.4536 - accuracy: 0.7364\n",
      "Epoch 12/20\n",
      "167/167 [==============================] - 1s 5ms/step - loss: 0.4538 - accuracy: 0.7365\n",
      "Epoch 13/20\n",
      "167/167 [==============================] - 1s 6ms/step - loss: 0.4534 - accuracy: 0.7365\n",
      "Epoch 14/20\n",
      "167/167 [==============================] - 1s 6ms/step - loss: 0.4538 - accuracy: 0.7387\n",
      "Epoch 15/20\n",
      "167/167 [==============================] - 1s 5ms/step - loss: 0.4525 - accuracy: 0.7395\n",
      "Epoch 16/20\n",
      "167/167 [==============================] - 1s 5ms/step - loss: 0.4558 - accuracy: 0.7354\n",
      "Epoch 17/20\n",
      "167/167 [==============================] - 1s 6ms/step - loss: 0.4537 - accuracy: 0.7346\n",
      "Epoch 18/20\n",
      "167/167 [==============================] - 1s 5ms/step - loss: 0.4528 - accuracy: 0.7367\n",
      "Epoch 19/20\n",
      "167/167 [==============================] - 1s 6ms/step - loss: 0.4527 - accuracy: 0.7352\n",
      "Epoch 20/20\n",
      "167/167 [==============================] - 1s 6ms/step - loss: 0.4532 - accuracy: 0.7352\n"
     ]
    },
    {
     "data": {
      "text/plain": [
       "<keras.callbacks.History at 0x22f2ad2c610>"
      ]
     },
     "execution_count": 8,
     "metadata": {},
     "output_type": "execute_result"
    }
   ],
   "source": [
    "RNNBased.fit(x = x_train,y = y_train, epochs= 20, batch_size=128)"
   ]
  },
  {
   "cell_type": "markdown",
   "metadata": {},
   "source": [
    "## 目前觀察遇到的狀況\n",
    "\n",
    "目前RNN模型上不去有幾個可能的原因\n",
    "\n",
    "* 資料連續變化不大 RNN無法完整發揮優勢\n",
    "* RNN 當前的hidden state為依賴前幾個hidden state"
   ]
  }
 ],
 "metadata": {
  "kernelspec": {
   "display_name": "Python 3.10.4 64-bit",
   "language": "python",
   "name": "python3"
  },
  "language_info": {
   "codemirror_mode": {
    "name": "ipython",
    "version": 3
   },
   "file_extension": ".py",
   "mimetype": "text/x-python",
   "name": "python",
   "nbconvert_exporter": "python",
   "pygments_lexer": "ipython3",
   "version": "3.10.4"
  },
  "orig_nbformat": 4,
  "vscode": {
   "interpreter": {
    "hash": "118d2d70b9837ec74e99cd8e271bd7c1e24309015268c38b027840ab45e80ec0"
   }
  }
 },
 "nbformat": 4,
 "nbformat_minor": 2
}
