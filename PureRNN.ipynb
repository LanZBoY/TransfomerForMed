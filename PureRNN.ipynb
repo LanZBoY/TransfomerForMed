{
 "cells": [
  {
   "cell_type": "code",
   "execution_count": 1,
   "metadata": {},
   "outputs": [],
   "source": [
    "import tensorflow as tf\n",
    "from keras import layers, activations, losses, optimizers, Model\n",
    "from CustomLayer import TransformerBlock\n",
    "import numpy as np"
   ]
  },
  {
   "cell_type": "code",
   "execution_count": 2,
   "metadata": {},
   "outputs": [],
   "source": [
    "feature_path = './dataset/data_feature.npy'\n",
    "label_path = './dataset/data_label.npy'\n",
    "x_train = np.load(feature_path)\n",
    "y_train = np.load(label_path)"
   ]
  },
  {
   "cell_type": "markdown",
   "metadata": {},
   "source": [
    "# Model"
   ]
  },
  {
   "cell_type": "code",
   "execution_count": 3,
   "metadata": {},
   "outputs": [],
   "source": [
    "inputs = layers.Input((7, 113))\n",
    "x = layers.LSTM(113, return_sequences=True)(inputs)\n",
    "x = layers.Flatten()(x)\n",
    "outputs = layers.Dense(1, activation=activations.sigmoid)(x)\n",
    "RNNBased = Model(inputs, outputs)"
   ]
  },
  {
   "cell_type": "code",
   "execution_count": 4,
   "metadata": {},
   "outputs": [
    {
     "name": "stdout",
     "output_type": "stream",
     "text": [
      "Model: \"model\"\n",
      "_________________________________________________________________\n",
      " Layer (type)                Output Shape              Param #   \n",
      "=================================================================\n",
      " input_1 (InputLayer)        [(None, 7, 113)]          0         \n",
      "                                                                 \n",
      " lstm (LSTM)                 (None, 7, 113)            102604    \n",
      "                                                                 \n",
      " flatten (Flatten)           (None, 791)               0         \n",
      "                                                                 \n",
      " dense (Dense)               (None, 1)                 792       \n",
      "                                                                 \n",
      "=================================================================\n",
      "Total params: 103,396\n",
      "Trainable params: 103,396\n",
      "Non-trainable params: 0\n",
      "_________________________________________________________________\n"
     ]
    }
   ],
   "source": [
    "RNNBased.summary()"
   ]
  },
  {
   "cell_type": "code",
   "execution_count": 5,
   "metadata": {},
   "outputs": [],
   "source": [
    "RNNBased.compile(loss='BinaryCrossentropy', optimizer=optimizers.adam_v2.Adam(), metrics=['accuracy'])"
   ]
  },
  {
   "cell_type": "code",
   "execution_count": 6,
   "metadata": {},
   "outputs": [
    {
     "name": "stdout",
     "output_type": "stream",
     "text": [
      "Epoch 1/20\n",
      "269/269 [==============================] - 16s 5ms/step - loss: 0.3312 - accuracy: 0.8247\n",
      "Epoch 2/20\n",
      "269/269 [==============================] - 1s 5ms/step - loss: 0.2871 - accuracy: 0.8339\n",
      "Epoch 3/20\n",
      "269/269 [==============================] - 1s 5ms/step - loss: 0.2858 - accuracy: 0.8337\n",
      "Epoch 4/20\n",
      "269/269 [==============================] - 1s 5ms/step - loss: 0.2852 - accuracy: 0.8340\n",
      "Epoch 5/20\n",
      "269/269 [==============================] - 1s 5ms/step - loss: 0.2852 - accuracy: 0.8355\n",
      "Epoch 6/20\n",
      "269/269 [==============================] - 1s 5ms/step - loss: 0.2838 - accuracy: 0.8349\n",
      "Epoch 7/20\n",
      "269/269 [==============================] - 1s 5ms/step - loss: 0.2834 - accuracy: 0.8357\n",
      "Epoch 8/20\n",
      "269/269 [==============================] - 1s 5ms/step - loss: 0.2828 - accuracy: 0.8358\n",
      "Epoch 9/20\n",
      "269/269 [==============================] - 1s 5ms/step - loss: 0.2830 - accuracy: 0.8351\n",
      "Epoch 10/20\n",
      "269/269 [==============================] - 1s 5ms/step - loss: 0.2830 - accuracy: 0.8349\n",
      "Epoch 11/20\n",
      "269/269 [==============================] - 1s 5ms/step - loss: 0.2828 - accuracy: 0.8349\n",
      "Epoch 12/20\n",
      "269/269 [==============================] - 1s 5ms/step - loss: 0.2828 - accuracy: 0.8352\n",
      "Epoch 13/20\n",
      "269/269 [==============================] - 1s 5ms/step - loss: 0.2829 - accuracy: 0.8361\n",
      "Epoch 14/20\n",
      "269/269 [==============================] - 1s 5ms/step - loss: 0.2833 - accuracy: 0.8347\n",
      "Epoch 15/20\n",
      "269/269 [==============================] - 1s 5ms/step - loss: 0.2827 - accuracy: 0.8347\n",
      "Epoch 16/20\n",
      "269/269 [==============================] - 1s 5ms/step - loss: 0.2823 - accuracy: 0.8356\n",
      "Epoch 17/20\n",
      "269/269 [==============================] - 1s 5ms/step - loss: 0.2824 - accuracy: 0.8358\n",
      "Epoch 18/20\n",
      "269/269 [==============================] - 1s 5ms/step - loss: 0.2819 - accuracy: 0.8367\n",
      "Epoch 19/20\n",
      "269/269 [==============================] - 1s 5ms/step - loss: 0.2819 - accuracy: 0.8362\n",
      "Epoch 20/20\n",
      "269/269 [==============================] - 1s 5ms/step - loss: 0.2810 - accuracy: 0.8359\n"
     ]
    },
    {
     "data": {
      "text/plain": [
       "<keras.callbacks.History at 0x15f51139a50>"
      ]
     },
     "execution_count": 6,
     "metadata": {},
     "output_type": "execute_result"
    }
   ],
   "source": [
    "RNNBased.fit(x = x_train,y = y_train, epochs= 20, batch_size=128)"
   ]
  },
  {
   "cell_type": "code",
   "execution_count": null,
   "metadata": {},
   "outputs": [],
   "source": []
  }
 ],
 "metadata": {
  "kernelspec": {
   "display_name": "Python 3.10.4 64-bit",
   "language": "python",
   "name": "python3"
  },
  "language_info": {
   "codemirror_mode": {
    "name": "ipython",
    "version": 3
   },
   "file_extension": ".py",
   "mimetype": "text/x-python",
   "name": "python",
   "nbconvert_exporter": "python",
   "pygments_lexer": "ipython3",
   "version": "3.10.4"
  },
  "orig_nbformat": 4,
  "vscode": {
   "interpreter": {
    "hash": "118d2d70b9837ec74e99cd8e271bd7c1e24309015268c38b027840ab45e80ec0"
   }
  }
 },
 "nbformat": 4,
 "nbformat_minor": 2
}
