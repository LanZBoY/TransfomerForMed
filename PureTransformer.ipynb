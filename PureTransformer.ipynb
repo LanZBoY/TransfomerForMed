{
 "cells": [
  {
   "cell_type": "code",
   "execution_count": 1,
   "metadata": {},
   "outputs": [],
   "source": [
    "import tensorflow as tf\n",
    "from keras import layers, activations, losses, optimizers, Model\n",
    "from CustomLayer import TransformerBlock\n",
    "import numpy as np"
   ]
  },
  {
   "cell_type": "markdown",
   "metadata": {},
   "source": [
    "# Transformer"
   ]
  },
  {
   "cell_type": "markdown",
   "metadata": {},
   "source": [
    "## RawData\n",
    "\n",
    "RawData包含拔呼吸器後的資料"
   ]
  },
  {
   "cell_type": "code",
   "execution_count": 2,
   "metadata": {},
   "outputs": [
    {
     "name": "stdout",
     "output_type": "stream",
     "text": [
      "(34424, 7, 113)\n",
      "(34424, 1)\n"
     ]
    }
   ],
   "source": [
    "feature_path = './dataset/data_feature.npy'\n",
    "label_path = './dataset/data_label.npy'\n",
    "x_train = np.load(feature_path)\n",
    "y_train = np.load(label_path)\n",
    "print(x_train.shape)\n",
    "print(y_train.shape)"
   ]
  },
  {
   "cell_type": "code",
   "execution_count": 3,
   "metadata": {},
   "outputs": [],
   "source": [
    "input = layers.Input((7,113))\n",
    "x = TransformerBlock(113, 7, 113)(input)\n",
    "x = layers.Flatten()(x)\n",
    "output = layers.Dense(1, activation=activations.sigmoid)(x)"
   ]
  },
  {
   "cell_type": "code",
   "execution_count": 4,
   "metadata": {},
   "outputs": [
    {
     "name": "stdout",
     "output_type": "stream",
     "text": [
      "Model: \"model\"\n",
      "_________________________________________________________________\n",
      " Layer (type)                Output Shape              Param #   \n",
      "=================================================================\n",
      " input_1 (InputLayer)        [(None, 7, 113)]          0         \n",
      "                                                                 \n",
      " transformer_block (Transfor  (None, 7, 113)           386234    \n",
      " merBlock)                                                       \n",
      "                                                                 \n",
      " flatten (Flatten)           (None, 791)               0         \n",
      "                                                                 \n",
      " dense_2 (Dense)             (None, 1)                 792       \n",
      "                                                                 \n",
      "=================================================================\n",
      "Total params: 387,026\n",
      "Trainable params: 387,026\n",
      "Non-trainable params: 0\n",
      "_________________________________________________________________\n"
     ]
    }
   ],
   "source": [
    "firstmodel = Model(input, output)\n",
    "firstmodel.compile(loss='BinaryCrossentropy', optimizer=optimizers.adam_v2.Adam(), metrics=['accuracy'])\n",
    "firstmodel.summary()"
   ]
  },
  {
   "cell_type": "code",
   "execution_count": 5,
   "metadata": {},
   "outputs": [
    {
     "name": "stdout",
     "output_type": "stream",
     "text": [
      "Epoch 1/20\n",
      "269/269 [==============================] - 5s 12ms/step - loss: 0.3022 - accuracy: 0.8239\n",
      "Epoch 2/20\n",
      "269/269 [==============================] - 3s 12ms/step - loss: 0.2916 - accuracy: 0.8296\n",
      "Epoch 3/20\n",
      "269/269 [==============================] - 3s 12ms/step - loss: 0.2894 - accuracy: 0.8309\n",
      "Epoch 4/20\n",
      "269/269 [==============================] - 3s 12ms/step - loss: 0.2852 - accuracy: 0.8324\n",
      "Epoch 5/20\n",
      "269/269 [==============================] - 3s 12ms/step - loss: 0.2851 - accuracy: 0.8337\n",
      "Epoch 6/20\n",
      "269/269 [==============================] - 3s 12ms/step - loss: 0.2839 - accuracy: 0.8349\n",
      "Epoch 7/20\n",
      "269/269 [==============================] - 3s 12ms/step - loss: 0.2825 - accuracy: 0.8360\n",
      "Epoch 8/20\n",
      "269/269 [==============================] - 3s 12ms/step - loss: 0.2818 - accuracy: 0.8368\n",
      "Epoch 9/20\n",
      "269/269 [==============================] - 3s 12ms/step - loss: 0.2814 - accuracy: 0.8379\n",
      "Epoch 10/20\n",
      "269/269 [==============================] - 3s 12ms/step - loss: 0.2801 - accuracy: 0.8380\n",
      "Epoch 11/20\n",
      "269/269 [==============================] - 3s 12ms/step - loss: 0.2783 - accuracy: 0.8399\n",
      "Epoch 12/20\n",
      "269/269 [==============================] - 3s 12ms/step - loss: 0.2776 - accuracy: 0.8401\n",
      "Epoch 13/20\n",
      "269/269 [==============================] - 3s 12ms/step - loss: 0.2754 - accuracy: 0.8406\n",
      "Epoch 14/20\n",
      "269/269 [==============================] - 3s 12ms/step - loss: 0.2764 - accuracy: 0.8407\n",
      "Epoch 15/20\n",
      "269/269 [==============================] - 3s 12ms/step - loss: 0.2764 - accuracy: 0.8407\n",
      "Epoch 16/20\n",
      "269/269 [==============================] - 3s 12ms/step - loss: 0.2757 - accuracy: 0.8427\n",
      "Epoch 17/20\n",
      "269/269 [==============================] - 3s 12ms/step - loss: 0.2755 - accuracy: 0.8423\n",
      "Epoch 18/20\n",
      "269/269 [==============================] - 3s 12ms/step - loss: 0.2733 - accuracy: 0.8464\n",
      "Epoch 19/20\n",
      "269/269 [==============================] - 3s 12ms/step - loss: 0.2748 - accuracy: 0.8432\n",
      "Epoch 20/20\n",
      "269/269 [==============================] - 3s 12ms/step - loss: 0.2740 - accuracy: 0.8437\n"
     ]
    },
    {
     "data": {
      "text/plain": [
       "<keras.callbacks.History at 0x19d6827be50>"
      ]
     },
     "execution_count": 5,
     "metadata": {},
     "output_type": "execute_result"
    }
   ],
   "source": [
    "firstmodel.fit(x = x_train,y = y_train, epochs= 20, batch_size=128)"
   ]
  },
  {
   "cell_type": "markdown",
   "metadata": {},
   "source": [
    "## DeepLearning"
   ]
  },
  {
   "cell_type": "code",
   "execution_count": 6,
   "metadata": {},
   "outputs": [
    {
     "name": "stdout",
     "output_type": "stream",
     "text": [
      "Model: \"model_1\"\n",
      "_________________________________________________________________\n",
      " Layer (type)                Output Shape              Param #   \n",
      "=================================================================\n",
      " input_2 (InputLayer)        [(None, 7, 113)]          0         \n",
      "                                                                 \n",
      " transformer_block_1 (Transf  (None, 7, 113)           386234    \n",
      " ormerBlock)                                                     \n",
      "                                                                 \n",
      " transformer_block_2 (Transf  (None, 7, 113)           386234    \n",
      " ormerBlock)                                                     \n",
      "                                                                 \n",
      " flatten_1 (Flatten)         (None, 791)               0         \n",
      "                                                                 \n",
      " dense_7 (Dense)             (None, 1)                 792       \n",
      "                                                                 \n",
      "=================================================================\n",
      "Total params: 773,260\n",
      "Trainable params: 773,260\n",
      "Non-trainable params: 0\n",
      "_________________________________________________________________\n"
     ]
    }
   ],
   "source": [
    "input = layers.Input((7,113))\n",
    "x = TransformerBlock(113, 7, 113)(input)\n",
    "x = TransformerBlock(113, 7, 113)(x)\n",
    "x = layers.Flatten()(x)\n",
    "output = layers.Dense(1, activation=activations.sigmoid)(x)\n",
    "\n",
    "secondModel = Model(input, output)\n",
    "secondModel.compile(loss='BinaryCrossentropy', optimizer=optimizers.adam_v2.Adam(), metrics=['accuracy'])\n",
    "secondModel.summary()"
   ]
  },
  {
   "cell_type": "code",
   "execution_count": 7,
   "metadata": {},
   "outputs": [
    {
     "name": "stdout",
     "output_type": "stream",
     "text": [
      "Epoch 1/20\n",
      "269/269 [==============================] - 7s 21ms/step - loss: 0.3034 - accuracy: 0.8242\n",
      "Epoch 2/20\n",
      "269/269 [==============================] - 6s 21ms/step - loss: 0.2901 - accuracy: 0.8296\n",
      "Epoch 3/20\n",
      "269/269 [==============================] - 6s 21ms/step - loss: 0.2869 - accuracy: 0.8336\n",
      "Epoch 4/20\n",
      "269/269 [==============================] - 6s 21ms/step - loss: 0.2865 - accuracy: 0.8328\n",
      "Epoch 5/20\n",
      "269/269 [==============================] - 6s 21ms/step - loss: 0.2836 - accuracy: 0.8349\n",
      "Epoch 6/20\n",
      "269/269 [==============================] - 6s 21ms/step - loss: 0.2833 - accuracy: 0.8346\n",
      "Epoch 7/20\n",
      "269/269 [==============================] - 6s 21ms/step - loss: 0.2820 - accuracy: 0.8348\n",
      "Epoch 8/20\n",
      "269/269 [==============================] - 6s 21ms/step - loss: 0.2813 - accuracy: 0.8371\n",
      "Epoch 9/20\n",
      "269/269 [==============================] - 6s 21ms/step - loss: 0.2821 - accuracy: 0.8342\n",
      "Epoch 10/20\n",
      "269/269 [==============================] - 6s 21ms/step - loss: 0.2814 - accuracy: 0.8364\n",
      "Epoch 11/20\n",
      "269/269 [==============================] - 6s 21ms/step - loss: 0.2800 - accuracy: 0.8377\n",
      "Epoch 12/20\n",
      "269/269 [==============================] - 6s 21ms/step - loss: 0.2808 - accuracy: 0.8376\n",
      "Epoch 13/20\n",
      "269/269 [==============================] - 6s 21ms/step - loss: 0.2793 - accuracy: 0.8377\n",
      "Epoch 14/20\n",
      "269/269 [==============================] - 6s 21ms/step - loss: 0.2794 - accuracy: 0.8369\n",
      "Epoch 15/20\n",
      "269/269 [==============================] - 6s 21ms/step - loss: 0.2785 - accuracy: 0.8394\n",
      "Epoch 16/20\n",
      "269/269 [==============================] - 6s 21ms/step - loss: 0.2787 - accuracy: 0.8409\n",
      "Epoch 17/20\n",
      "269/269 [==============================] - 6s 21ms/step - loss: 0.2767 - accuracy: 0.8421\n",
      "Epoch 18/20\n",
      "269/269 [==============================] - 6s 23ms/step - loss: 0.2777 - accuracy: 0.8391\n",
      "Epoch 19/20\n",
      "269/269 [==============================] - 6s 22ms/step - loss: 0.2766 - accuracy: 0.8395\n",
      "Epoch 20/20\n",
      "269/269 [==============================] - 6s 22ms/step - loss: 0.2768 - accuracy: 0.8400\n"
     ]
    },
    {
     "data": {
      "text/plain": [
       "<keras.callbacks.History at 0x19d0e6e7f10>"
      ]
     },
     "execution_count": 7,
     "metadata": {},
     "output_type": "execute_result"
    }
   ],
   "source": [
    "secondModel.fit(x = x_train,y = y_train, epochs= 20, batch_size=128)"
   ]
  },
  {
   "cell_type": "markdown",
   "metadata": {},
   "source": [
    "## Clear Data\n",
    "\n",
    "不包含拔呼吸器後的資料"
   ]
  },
  {
   "cell_type": "code",
   "execution_count": 8,
   "metadata": {},
   "outputs": [
    {
     "name": "stdout",
     "output_type": "stream",
     "text": [
      "(21364, 7, 113)\n",
      "(21364, 1)\n"
     ]
    }
   ],
   "source": [
    "feature_path = './dataset/data_feature_clear.npy'\n",
    "label_path = './dataset/data_label_clear.npy'\n",
    "x_train = np.load(feature_path)\n",
    "y_train = np.load(label_path)\n",
    "print(x_train.shape)\n",
    "print(y_train.shape)"
   ]
  },
  {
   "cell_type": "code",
   "execution_count": 9,
   "metadata": {},
   "outputs": [],
   "source": [
    "input = layers.Input((7,113))\n",
    "x = TransformerBlock(113, 7, 113)(input)\n",
    "x = layers.Flatten()(x)\n",
    "output = layers.Dense(1, activation=activations.sigmoid)(x)"
   ]
  },
  {
   "cell_type": "code",
   "execution_count": 10,
   "metadata": {},
   "outputs": [
    {
     "name": "stdout",
     "output_type": "stream",
     "text": [
      "Model: \"model_2\"\n",
      "_________________________________________________________________\n",
      " Layer (type)                Output Shape              Param #   \n",
      "=================================================================\n",
      " input_3 (InputLayer)        [(None, 7, 113)]          0         \n",
      "                                                                 \n",
      " transformer_block_3 (Transf  (None, 7, 113)           386234    \n",
      " ormerBlock)                                                     \n",
      "                                                                 \n",
      " flatten_2 (Flatten)         (None, 791)               0         \n",
      "                                                                 \n",
      " dense_10 (Dense)            (None, 1)                 792       \n",
      "                                                                 \n",
      "=================================================================\n",
      "Total params: 387,026\n",
      "Trainable params: 387,026\n",
      "Non-trainable params: 0\n",
      "_________________________________________________________________\n"
     ]
    }
   ],
   "source": [
    "firstmodel = Model(input, output)\n",
    "firstmodel.compile(loss='BinaryCrossentropy', optimizer=optimizers.adam_v2.Adam(), metrics=['accuracy'])\n",
    "firstmodel.summary()"
   ]
  },
  {
   "cell_type": "code",
   "execution_count": 11,
   "metadata": {},
   "outputs": [
    {
     "name": "stdout",
     "output_type": "stream",
     "text": [
      "Epoch 1/40\n",
      "167/167 [==============================] - 3s 12ms/step - loss: 0.4896 - accuracy: 0.7179\n",
      "Epoch 2/40\n",
      "167/167 [==============================] - 2s 12ms/step - loss: 0.4630 - accuracy: 0.7324\n",
      "Epoch 3/40\n",
      "167/167 [==============================] - 2s 12ms/step - loss: 0.4594 - accuracy: 0.7325\n",
      "Epoch 4/40\n",
      "167/167 [==============================] - 2s 12ms/step - loss: 0.4569 - accuracy: 0.7317\n",
      "Epoch 5/40\n",
      "167/167 [==============================] - 2s 12ms/step - loss: 0.4557 - accuracy: 0.7359\n",
      "Epoch 6/40\n",
      "167/167 [==============================] - 2s 12ms/step - loss: 0.4522 - accuracy: 0.7397\n",
      "Epoch 7/40\n",
      "167/167 [==============================] - 2s 12ms/step - loss: 0.4548 - accuracy: 0.7371\n",
      "Epoch 8/40\n",
      "167/167 [==============================] - 2s 12ms/step - loss: 0.4512 - accuracy: 0.7373\n",
      "Epoch 9/40\n",
      "167/167 [==============================] - 2s 12ms/step - loss: 0.4505 - accuracy: 0.7397\n",
      "Epoch 10/40\n",
      "167/167 [==============================] - 2s 12ms/step - loss: 0.4479 - accuracy: 0.7396\n",
      "Epoch 11/40\n",
      "167/167 [==============================] - 2s 12ms/step - loss: 0.4498 - accuracy: 0.7402\n",
      "Epoch 12/40\n",
      "167/167 [==============================] - 2s 12ms/step - loss: 0.4456 - accuracy: 0.7402\n",
      "Epoch 13/40\n",
      "167/167 [==============================] - 2s 12ms/step - loss: 0.4436 - accuracy: 0.7440\n",
      "Epoch 14/40\n",
      "167/167 [==============================] - 2s 12ms/step - loss: 0.4437 - accuracy: 0.7454\n",
      "Epoch 15/40\n",
      "167/167 [==============================] - 2s 12ms/step - loss: 0.4428 - accuracy: 0.7448\n",
      "Epoch 16/40\n",
      "167/167 [==============================] - 2s 12ms/step - loss: 0.4417 - accuracy: 0.7482\n",
      "Epoch 17/40\n",
      "167/167 [==============================] - 2s 12ms/step - loss: 0.4403 - accuracy: 0.7499\n",
      "Epoch 18/40\n",
      "167/167 [==============================] - 2s 12ms/step - loss: 0.4396 - accuracy: 0.7526\n",
      "Epoch 19/40\n",
      "167/167 [==============================] - 2s 12ms/step - loss: 0.4382 - accuracy: 0.7496\n",
      "Epoch 20/40\n",
      "167/167 [==============================] - 2s 12ms/step - loss: 0.4376 - accuracy: 0.7527\n",
      "Epoch 21/40\n",
      "167/167 [==============================] - 2s 12ms/step - loss: 0.4353 - accuracy: 0.7517\n",
      "Epoch 22/40\n",
      "167/167 [==============================] - 2s 12ms/step - loss: 0.4362 - accuracy: 0.7540\n",
      "Epoch 23/40\n",
      "167/167 [==============================] - 2s 12ms/step - loss: 0.4372 - accuracy: 0.7532\n",
      "Epoch 24/40\n",
      "167/167 [==============================] - 2s 12ms/step - loss: 0.4352 - accuracy: 0.7555\n",
      "Epoch 25/40\n",
      "167/167 [==============================] - 2s 12ms/step - loss: 0.4365 - accuracy: 0.7537\n",
      "Epoch 26/40\n",
      "167/167 [==============================] - 2s 12ms/step - loss: 0.4340 - accuracy: 0.7580\n",
      "Epoch 27/40\n",
      "167/167 [==============================] - 2s 12ms/step - loss: 0.4321 - accuracy: 0.7581\n",
      "Epoch 28/40\n",
      "167/167 [==============================] - 2s 12ms/step - loss: 0.4311 - accuracy: 0.7585\n",
      "Epoch 29/40\n",
      "167/167 [==============================] - 2s 12ms/step - loss: 0.4316 - accuracy: 0.7570\n",
      "Epoch 30/40\n",
      "167/167 [==============================] - 2s 12ms/step - loss: 0.4298 - accuracy: 0.7607\n",
      "Epoch 31/40\n",
      "167/167 [==============================] - 2s 12ms/step - loss: 0.4280 - accuracy: 0.7596\n",
      "Epoch 32/40\n",
      "167/167 [==============================] - 2s 12ms/step - loss: 0.4297 - accuracy: 0.7570\n",
      "Epoch 33/40\n",
      "167/167 [==============================] - 2s 12ms/step - loss: 0.4277 - accuracy: 0.7648\n",
      "Epoch 34/40\n",
      "167/167 [==============================] - 2s 12ms/step - loss: 0.4273 - accuracy: 0.7598\n",
      "Epoch 35/40\n",
      "167/167 [==============================] - 2s 12ms/step - loss: 0.4268 - accuracy: 0.7623\n",
      "Epoch 36/40\n",
      "167/167 [==============================] - 2s 12ms/step - loss: 0.4258 - accuracy: 0.7618\n",
      "Epoch 37/40\n",
      "167/167 [==============================] - 2s 12ms/step - loss: 0.4231 - accuracy: 0.7661\n",
      "Epoch 38/40\n",
      "167/167 [==============================] - 2s 12ms/step - loss: 0.4264 - accuracy: 0.7643\n",
      "Epoch 39/40\n",
      "167/167 [==============================] - 2s 12ms/step - loss: 0.4225 - accuracy: 0.7652\n",
      "Epoch 40/40\n",
      "167/167 [==============================] - 2s 12ms/step - loss: 0.4226 - accuracy: 0.7680\n"
     ]
    },
    {
     "data": {
      "text/plain": [
       "<keras.callbacks.History at 0x19d5b2183d0>"
      ]
     },
     "execution_count": 11,
     "metadata": {},
     "output_type": "execute_result"
    }
   ],
   "source": [
    "firstmodel.fit(x = x_train,y = y_train, epochs= 40, batch_size=128)"
   ]
  }
 ],
 "metadata": {
  "kernelspec": {
   "display_name": "Python 3.10.4 64-bit",
   "language": "python",
   "name": "python3"
  },
  "language_info": {
   "codemirror_mode": {
    "name": "ipython",
    "version": 3
   },
   "file_extension": ".py",
   "mimetype": "text/x-python",
   "name": "python",
   "nbconvert_exporter": "python",
   "pygments_lexer": "ipython3",
   "version": "3.10.4"
  },
  "orig_nbformat": 4,
  "vscode": {
   "interpreter": {
    "hash": "118d2d70b9837ec74e99cd8e271bd7c1e24309015268c38b027840ab45e80ec0"
   }
  }
 },
 "nbformat": 4,
 "nbformat_minor": 2
}
