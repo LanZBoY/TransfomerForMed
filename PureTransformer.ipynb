{
 "cells": [
  {
   "cell_type": "code",
   "execution_count": 2,
   "metadata": {},
   "outputs": [],
   "source": [
    "import tensorflow as tf\n",
    "from keras import layers, activations, losses, optimizers, Model\n",
    "from CustomLayer import TransformerBlock\n",
    "import numpy as np"
   ]
  },
  {
   "cell_type": "markdown",
   "metadata": {},
   "source": [
    "# Transformer"
   ]
  },
  {
   "cell_type": "markdown",
   "metadata": {},
   "source": [
    "## RawData\n",
    "\n",
    "RawData包含拔呼吸器後的資料"
   ]
  },
  {
   "cell_type": "code",
   "execution_count": null,
   "metadata": {},
   "outputs": [],
   "source": [
    "feature_path = './dataset/data_feature.npy'\n",
    "label_path = './dataset/data_label.npy'\n",
    "x_train = np.load(feature_path)\n",
    "y_train = np.load(label_path)\n",
    "print(x_train.shape)\n",
    "print(y_train.shape)"
   ]
  },
  {
   "cell_type": "code",
   "execution_count": 5,
   "metadata": {},
   "outputs": [],
   "source": [
    "input = layers.Input((7,113))\n",
    "x = TransformerBlock(113, 7, 113)(input)\n",
    "x = layers.Flatten()(x)\n",
    "output = layers.Dense(1, activation=activations.sigmoid)(x)"
   ]
  },
  {
   "cell_type": "code",
   "execution_count": 6,
   "metadata": {},
   "outputs": [
    {
     "name": "stdout",
     "output_type": "stream",
     "text": [
      "Model: \"model\"\n",
      "_________________________________________________________________\n",
      " Layer (type)                Output Shape              Param #   \n",
      "=================================================================\n",
      " input_1 (InputLayer)        [(None, 7, 113)]          0         \n",
      "                                                                 \n",
      " transformer_block (Transfor  (None, 7, 113)           386234    \n",
      " merBlock)                                                       \n",
      "                                                                 \n",
      " flatten (Flatten)           (None, 791)               0         \n",
      "                                                                 \n",
      " dense_2 (Dense)             (None, 1)                 792       \n",
      "                                                                 \n",
      "=================================================================\n",
      "Total params: 387,026\n",
      "Trainable params: 387,026\n",
      "Non-trainable params: 0\n",
      "_________________________________________________________________\n"
     ]
    }
   ],
   "source": [
    "firstmodel = Model(input, output)\n",
    "firstmodel.compile(loss='BinaryCrossentropy', optimizer=optimizers.adam_v2.Adam(), metrics=['accuracy'])\n",
    "firstmodel.summary()"
   ]
  },
  {
   "cell_type": "code",
   "execution_count": 7,
   "metadata": {},
   "outputs": [
    {
     "name": "stdout",
     "output_type": "stream",
     "text": [
      "Epoch 1/20\n",
      "269/269 [==============================] - 4s 11ms/step - loss: 0.2996 - accuracy: 0.8256\n",
      "Epoch 2/20\n",
      "269/269 [==============================] - 3s 10ms/step - loss: 0.2882 - accuracy: 0.8314\n",
      "Epoch 3/20\n",
      "269/269 [==============================] - 3s 11ms/step - loss: 0.2890 - accuracy: 0.8313\n",
      "Epoch 4/20\n",
      "269/269 [==============================] - 3s 10ms/step - loss: 0.2874 - accuracy: 0.8317\n",
      "Epoch 5/20\n",
      "269/269 [==============================] - 3s 10ms/step - loss: 0.2839 - accuracy: 0.8349\n",
      "Epoch 6/20\n",
      "269/269 [==============================] - 3s 10ms/step - loss: 0.2826 - accuracy: 0.8356\n",
      "Epoch 7/20\n",
      "269/269 [==============================] - 3s 10ms/step - loss: 0.2814 - accuracy: 0.8357\n",
      "Epoch 8/20\n",
      "269/269 [==============================] - 3s 10ms/step - loss: 0.2810 - accuracy: 0.8384\n",
      "Epoch 9/20\n",
      "269/269 [==============================] - 3s 10ms/step - loss: 0.2795 - accuracy: 0.8382\n",
      "Epoch 10/20\n",
      "269/269 [==============================] - 3s 10ms/step - loss: 0.2808 - accuracy: 0.8372\n",
      "Epoch 11/20\n",
      "269/269 [==============================] - 3s 10ms/step - loss: 0.2777 - accuracy: 0.8399\n",
      "Epoch 12/20\n",
      "269/269 [==============================] - 3s 10ms/step - loss: 0.2783 - accuracy: 0.8387\n",
      "Epoch 13/20\n",
      "269/269 [==============================] - 3s 10ms/step - loss: 0.2776 - accuracy: 0.8407\n",
      "Epoch 14/20\n",
      "269/269 [==============================] - 3s 10ms/step - loss: 0.2767 - accuracy: 0.8413\n",
      "Epoch 15/20\n",
      "269/269 [==============================] - 3s 10ms/step - loss: 0.2767 - accuracy: 0.8417\n",
      "Epoch 16/20\n",
      "269/269 [==============================] - 3s 10ms/step - loss: 0.2753 - accuracy: 0.8407\n",
      "Epoch 17/20\n",
      "269/269 [==============================] - 3s 10ms/step - loss: 0.2752 - accuracy: 0.8430\n",
      "Epoch 18/20\n",
      "269/269 [==============================] - 3s 10ms/step - loss: 0.2742 - accuracy: 0.8449\n",
      "Epoch 19/20\n",
      "269/269 [==============================] - 3s 10ms/step - loss: 0.2739 - accuracy: 0.8439\n",
      "Epoch 20/20\n",
      "269/269 [==============================] - 3s 10ms/step - loss: 0.2743 - accuracy: 0.8429\n"
     ]
    },
    {
     "data": {
      "text/plain": [
       "<keras.callbacks.History at 0x19f98fa34c0>"
      ]
     },
     "execution_count": 7,
     "metadata": {},
     "output_type": "execute_result"
    }
   ],
   "source": [
    "firstmodel.fit(x = x_train,y = y_train, epochs= 20, batch_size=128)"
   ]
  },
  {
   "cell_type": "markdown",
   "metadata": {},
   "source": [
    "## DeepLearning"
   ]
  },
  {
   "cell_type": "code",
   "execution_count": 8,
   "metadata": {},
   "outputs": [
    {
     "name": "stdout",
     "output_type": "stream",
     "text": [
      "Model: \"model_1\"\n",
      "_________________________________________________________________\n",
      " Layer (type)                Output Shape              Param #   \n",
      "=================================================================\n",
      " input_2 (InputLayer)        [(None, 7, 113)]          0         \n",
      "                                                                 \n",
      " transformer_block_1 (Transf  (None, 7, 113)           386234    \n",
      " ormerBlock)                                                     \n",
      "                                                                 \n",
      " transformer_block_2 (Transf  (None, 7, 113)           386234    \n",
      " ormerBlock)                                                     \n",
      "                                                                 \n",
      " flatten_1 (Flatten)         (None, 791)               0         \n",
      "                                                                 \n",
      " dense_7 (Dense)             (None, 1)                 792       \n",
      "                                                                 \n",
      "=================================================================\n",
      "Total params: 773,260\n",
      "Trainable params: 773,260\n",
      "Non-trainable params: 0\n",
      "_________________________________________________________________\n"
     ]
    }
   ],
   "source": [
    "input = layers.Input((7,113))\n",
    "x = TransformerBlock(113, 7, 113)(input)\n",
    "x = TransformerBlock(113, 7, 113)(x)\n",
    "x = layers.Flatten()(x)\n",
    "output = layers.Dense(1, activation=activations.sigmoid)(x)\n",
    "\n",
    "secondModel = Model(input, output)\n",
    "secondModel.compile(loss='BinaryCrossentropy', optimizer=optimizers.adam_v2.Adam(), metrics=['accuracy'])\n",
    "secondModel.summary()"
   ]
  },
  {
   "cell_type": "code",
   "execution_count": 9,
   "metadata": {},
   "outputs": [
    {
     "name": "stdout",
     "output_type": "stream",
     "text": [
      "Epoch 1/20\n",
      "269/269 [==============================] - 6s 18ms/step - loss: 0.3013 - accuracy: 0.8216\n",
      "Epoch 2/20\n",
      "269/269 [==============================] - 5s 18ms/step - loss: 0.2924 - accuracy: 0.8275\n",
      "Epoch 3/20\n",
      "269/269 [==============================] - 5s 18ms/step - loss: 0.2879 - accuracy: 0.8328\n",
      "Epoch 4/20\n",
      "269/269 [==============================] - 5s 18ms/step - loss: 0.2856 - accuracy: 0.8323\n",
      "Epoch 5/20\n",
      "269/269 [==============================] - 5s 18ms/step - loss: 0.2852 - accuracy: 0.8339\n",
      "Epoch 6/20\n",
      "269/269 [==============================] - 5s 18ms/step - loss: 0.2826 - accuracy: 0.8366\n",
      "Epoch 7/20\n",
      "269/269 [==============================] - 5s 18ms/step - loss: 0.2817 - accuracy: 0.8371\n",
      "Epoch 8/20\n",
      "269/269 [==============================] - 5s 18ms/step - loss: 0.2802 - accuracy: 0.8360\n",
      "Epoch 9/20\n",
      "269/269 [==============================] - 5s 18ms/step - loss: 0.2813 - accuracy: 0.8353\n",
      "Epoch 10/20\n",
      "269/269 [==============================] - 5s 18ms/step - loss: 0.2799 - accuracy: 0.8374\n",
      "Epoch 11/20\n",
      "269/269 [==============================] - 5s 18ms/step - loss: 0.2810 - accuracy: 0.8359\n",
      "Epoch 12/20\n",
      "269/269 [==============================] - 5s 18ms/step - loss: 0.2781 - accuracy: 0.8401\n",
      "Epoch 13/20\n",
      "269/269 [==============================] - 5s 18ms/step - loss: 0.2782 - accuracy: 0.8378\n",
      "Epoch 14/20\n",
      "269/269 [==============================] - 5s 18ms/step - loss: 0.2768 - accuracy: 0.8393\n",
      "Epoch 15/20\n",
      "269/269 [==============================] - 5s 18ms/step - loss: 0.2771 - accuracy: 0.8416\n",
      "Epoch 16/20\n",
      "269/269 [==============================] - 5s 18ms/step - loss: 0.2772 - accuracy: 0.8395\n",
      "Epoch 17/20\n",
      "269/269 [==============================] - 5s 18ms/step - loss: 0.2766 - accuracy: 0.8403\n",
      "Epoch 18/20\n",
      "269/269 [==============================] - 5s 18ms/step - loss: 0.2778 - accuracy: 0.8401\n",
      "Epoch 19/20\n",
      "269/269 [==============================] - 5s 18ms/step - loss: 0.2752 - accuracy: 0.8420\n",
      "Epoch 20/20\n",
      "269/269 [==============================] - 5s 18ms/step - loss: 0.2752 - accuracy: 0.8437\n"
     ]
    },
    {
     "data": {
      "text/plain": [
       "<keras.callbacks.History at 0x19fff067ee0>"
      ]
     },
     "execution_count": 9,
     "metadata": {},
     "output_type": "execute_result"
    }
   ],
   "source": [
    "secondModel.fit(x = x_train,y = y_train, epochs= 20, batch_size=128)"
   ]
  },
  {
   "cell_type": "markdown",
   "metadata": {},
   "source": [
    "## Clear Data\n",
    "\n",
    "不包含拔呼吸器後的資料"
   ]
  },
  {
   "cell_type": "code",
   "execution_count": 10,
   "metadata": {},
   "outputs": [
    {
     "name": "stdout",
     "output_type": "stream",
     "text": [
      "(21364, 7, 113)\n",
      "(21364, 1)\n"
     ]
    }
   ],
   "source": [
    "feature_path = './dataset/data_feature_clear.npy'\n",
    "label_path = './dataset/data_label_clear.npy'\n",
    "x_train = np.load(feature_path)\n",
    "y_train = np.load(label_path)\n",
    "print(x_train.shape)\n",
    "print(y_train.shape)"
   ]
  },
  {
   "cell_type": "code",
   "execution_count": 11,
   "metadata": {},
   "outputs": [],
   "source": [
    "input = layers.Input((7,113))\n",
    "x = TransformerBlock(113, 7, 113)(input)\n",
    "x = layers.Flatten()(x)\n",
    "output = layers.Dense(1, activation=activations.sigmoid)(x)"
   ]
  },
  {
   "cell_type": "code",
   "execution_count": 12,
   "metadata": {},
   "outputs": [
    {
     "name": "stdout",
     "output_type": "stream",
     "text": [
      "Model: \"model_2\"\n",
      "_________________________________________________________________\n",
      " Layer (type)                Output Shape              Param #   \n",
      "=================================================================\n",
      " input_4 (InputLayer)        [(None, 7, 113)]          0         \n",
      "                                                                 \n",
      " transformer_block_4 (Transf  (None, 7, 113)           386234    \n",
      " ormerBlock)                                                     \n",
      "                                                                 \n",
      " flatten_3 (Flatten)         (None, 791)               0         \n",
      "                                                                 \n",
      " dense_13 (Dense)            (None, 1)                 792       \n",
      "                                                                 \n",
      "=================================================================\n",
      "Total params: 387,026\n",
      "Trainable params: 387,026\n",
      "Non-trainable params: 0\n",
      "_________________________________________________________________\n"
     ]
    }
   ],
   "source": [
    "firstmodel = Model(input, output)\n",
    "firstmodel.compile(loss='BinaryCrossentropy', optimizer=optimizers.adam_v2.Adam(), metrics=['accuracy'])\n",
    "firstmodel.summary()"
   ]
  },
  {
   "cell_type": "code",
   "execution_count": 13,
   "metadata": {},
   "outputs": [
    {
     "name": "stdout",
     "output_type": "stream",
     "text": [
      "Epoch 1/40\n",
      "167/167 [==============================] - 4s 21ms/step - loss: 0.4416 - accuracy: 0.7468\n",
      "Epoch 2/40\n",
      "167/167 [==============================] - 4s 21ms/step - loss: 0.4435 - accuracy: 0.7460\n",
      "Epoch 3/40\n",
      "167/167 [==============================] - 4s 21ms/step - loss: 0.4408 - accuracy: 0.7478\n",
      "Epoch 4/40\n",
      "167/167 [==============================] - 3s 21ms/step - loss: 0.4402 - accuracy: 0.7483\n",
      "Epoch 5/40\n",
      "167/167 [==============================] - 4s 21ms/step - loss: 0.4398 - accuracy: 0.7478\n",
      "Epoch 6/40\n",
      "167/167 [==============================] - 4s 23ms/step - loss: 0.4402 - accuracy: 0.7491\n",
      "Epoch 7/40\n",
      "167/167 [==============================] - 4s 22ms/step - loss: 0.4379 - accuracy: 0.7525\n",
      "Epoch 8/40\n",
      "167/167 [==============================] - 4s 24ms/step - loss: 0.4375 - accuracy: 0.7522\n",
      "Epoch 9/40\n",
      "167/167 [==============================] - 4s 23ms/step - loss: 0.4377 - accuracy: 0.7523\n",
      "Epoch 10/40\n",
      "167/167 [==============================] - 4s 23ms/step - loss: 0.4386 - accuracy: 0.7500\n",
      "Epoch 11/40\n",
      "167/167 [==============================] - 4s 24ms/step - loss: 0.4362 - accuracy: 0.7539\n",
      "Epoch 12/40\n",
      "167/167 [==============================] - 4s 24ms/step - loss: 0.4357 - accuracy: 0.7544\n",
      "Epoch 13/40\n",
      "167/167 [==============================] - 6s 34ms/step - loss: 0.4355 - accuracy: 0.7549\n",
      "Epoch 14/40\n",
      "167/167 [==============================] - 5s 30ms/step - loss: 0.4375 - accuracy: 0.7536\n",
      "Epoch 15/40\n",
      "167/167 [==============================] - 4s 26ms/step - loss: 0.4342 - accuracy: 0.7543\n",
      "Epoch 16/40\n",
      "167/167 [==============================] - 4s 25ms/step - loss: 0.4362 - accuracy: 0.7523\n",
      "Epoch 17/40\n",
      "167/167 [==============================] - 8s 48ms/step - loss: 0.4352 - accuracy: 0.7556\n",
      "Epoch 18/40\n",
      "167/167 [==============================] - 6s 37ms/step - loss: 0.4351 - accuracy: 0.7536\n",
      "Epoch 19/40\n",
      "167/167 [==============================] - 6s 34ms/step - loss: 0.4349 - accuracy: 0.7562\n",
      "Epoch 20/40\n",
      "167/167 [==============================] - 8s 50ms/step - loss: 0.4390 - accuracy: 0.7519\n",
      "Epoch 21/40\n",
      "167/167 [==============================] - 4s 26ms/step - loss: 0.4643 - accuracy: 0.7370\n",
      "Epoch 22/40\n",
      "167/167 [==============================] - 4s 24ms/step - loss: 0.4406 - accuracy: 0.7548\n",
      "Epoch 23/40\n",
      "167/167 [==============================] - 4s 24ms/step - loss: 0.4360 - accuracy: 0.7569\n",
      "Epoch 24/40\n",
      "167/167 [==============================] - 4s 24ms/step - loss: 0.4341 - accuracy: 0.7563\n",
      "Epoch 25/40\n",
      "167/167 [==============================] - 4s 25ms/step - loss: 0.4344 - accuracy: 0.7570\n",
      "Epoch 26/40\n",
      "167/167 [==============================] - 4s 23ms/step - loss: 0.4316 - accuracy: 0.7562\n",
      "Epoch 27/40\n",
      "167/167 [==============================] - 4s 22ms/step - loss: 0.4339 - accuracy: 0.7559\n",
      "Epoch 28/40\n",
      "167/167 [==============================] - 4s 22ms/step - loss: 0.4324 - accuracy: 0.7570\n",
      "Epoch 29/40\n",
      "167/167 [==============================] - 4s 23ms/step - loss: 0.4340 - accuracy: 0.7546\n",
      "Epoch 30/40\n",
      "167/167 [==============================] - 4s 25ms/step - loss: 0.4337 - accuracy: 0.7571\n",
      "Epoch 31/40\n",
      "167/167 [==============================] - 4s 23ms/step - loss: 0.4314 - accuracy: 0.7577\n",
      "Epoch 32/40\n",
      "167/167 [==============================] - 4s 24ms/step - loss: 0.4327 - accuracy: 0.7590\n",
      "Epoch 33/40\n",
      "167/167 [==============================] - 4s 24ms/step - loss: 0.4311 - accuracy: 0.7562\n",
      "Epoch 34/40\n",
      "167/167 [==============================] - 4s 23ms/step - loss: 0.4277 - accuracy: 0.7608\n",
      "Epoch 35/40\n",
      "167/167 [==============================] - 4s 24ms/step - loss: 0.4300 - accuracy: 0.7600\n",
      "Epoch 36/40\n",
      "167/167 [==============================] - 4s 26ms/step - loss: 0.4298 - accuracy: 0.7594\n",
      "Epoch 37/40\n",
      "167/167 [==============================] - 4s 25ms/step - loss: 0.4303 - accuracy: 0.7584\n",
      "Epoch 38/40\n",
      "167/167 [==============================] - 4s 26ms/step - loss: 0.4306 - accuracy: 0.7590\n",
      "Epoch 39/40\n",
      "167/167 [==============================] - 4s 25ms/step - loss: 0.4290 - accuracy: 0.7613\n",
      "Epoch 40/40\n",
      "167/167 [==============================] - 4s 25ms/step - loss: 0.4260 - accuracy: 0.7636\n"
     ]
    },
    {
     "data": {
      "text/plain": [
       "<keras.callbacks.History at 0x16ff616e7d0>"
      ]
     },
     "execution_count": 13,
     "metadata": {},
     "output_type": "execute_result"
    }
   ],
   "source": [
    "secondModel.fit(x = x_train,y = y_train, epochs= 40, batch_size=128)"
   ]
  }
 ],
 "metadata": {
  "kernelspec": {
   "display_name": "Python 3.10.4 64-bit",
   "language": "python",
   "name": "python3"
  },
  "language_info": {
   "codemirror_mode": {
    "name": "ipython",
    "version": 3
   },
   "file_extension": ".py",
   "mimetype": "text/x-python",
   "name": "python",
   "nbconvert_exporter": "python",
   "pygments_lexer": "ipython3",
   "version": "3.10.4"
  },
  "orig_nbformat": 4,
  "vscode": {
   "interpreter": {
    "hash": "118d2d70b9837ec74e99cd8e271bd7c1e24309015268c38b027840ab45e80ec0"
   }
  }
 },
 "nbformat": 4,
 "nbformat_minor": 2
}
