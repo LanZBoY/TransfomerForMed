{
 "cells": [
  {
   "cell_type": "code",
   "execution_count": 2,
   "metadata": {},
   "outputs": [],
   "source": [
    "import tensorflow as tf\n",
    "from keras import layers, activations, losses, optimizers, Model\n",
    "from CustomLayer import TransformerBlock\n",
    "import numpy as np"
   ]
  },
  {
   "cell_type": "code",
   "execution_count": 3,
   "metadata": {},
   "outputs": [],
   "source": [
    "feature_path = './dataset/data_feature.npy'\n",
    "label_path = './dataset/data_label.npy'\n",
    "x_train = np.load(feature_path)\n",
    "y_train = np.load(label_path)"
   ]
  },
  {
   "cell_type": "markdown",
   "metadata": {},
   "source": [
    "# Model"
   ]
  },
  {
   "cell_type": "code",
   "execution_count": 6,
   "metadata": {},
   "outputs": [],
   "source": [
    "inputs = layers.Input((7 , 113))\n",
    "x = layers.LSTM(113, return_sequences=True)(inputs)\n",
    "x = TransformerBlock(113, 7, 113)(x)\n",
    "x = layers.Flatten()(x)\n",
    "ouputs = layers.Dense(1, activation= activations.sigmoid)(x)"
   ]
  },
  {
   "cell_type": "code",
   "execution_count": 7,
   "metadata": {},
   "outputs": [],
   "source": [
    "LSTMWithTransformer = Model(inputs, ouputs)"
   ]
  },
  {
   "cell_type": "code",
   "execution_count": 8,
   "metadata": {},
   "outputs": [
    {
     "name": "stdout",
     "output_type": "stream",
     "text": [
      "Model: \"model_1\"\n",
      "_________________________________________________________________\n",
      " Layer (type)                Output Shape              Param #   \n",
      "=================================================================\n",
      " input_2 (InputLayer)        [(None, 7, 113)]          0         \n",
      "                                                                 \n",
      " lstm_1 (LSTM)               (None, 7, 113)            102604    \n",
      "                                                                 \n",
      " transformer_block_1 (Transf  (None, 7, 113)           386234    \n",
      " ormerBlock)                                                     \n",
      "                                                                 \n",
      " flatten_1 (Flatten)         (None, 791)               0         \n",
      "                                                                 \n",
      " dense_5 (Dense)             (None, 1)                 792       \n",
      "                                                                 \n",
      "=================================================================\n",
      "Total params: 489,630\n",
      "Trainable params: 489,630\n",
      "Non-trainable params: 0\n",
      "_________________________________________________________________\n"
     ]
    }
   ],
   "source": [
    "LSTMWithTransformer.summary()"
   ]
  },
  {
   "cell_type": "code",
   "execution_count": 9,
   "metadata": {},
   "outputs": [],
   "source": [
    "LSTMWithTransformer.compile(loss='BinaryCrossentropy', optimizer=optimizers.adam_v2.Adam(), metrics=['accuracy'])"
   ]
  },
  {
   "cell_type": "code",
   "execution_count": 10,
   "metadata": {},
   "outputs": [
    {
     "name": "stdout",
     "output_type": "stream",
     "text": [
      "Epoch 1/20\n",
      "269/269 [==============================] - 19s 14ms/step - loss: 0.3079 - accuracy: 0.8212\n",
      "Epoch 2/20\n",
      "269/269 [==============================] - 4s 14ms/step - loss: 0.2919 - accuracy: 0.8266\n",
      "Epoch 3/20\n",
      "269/269 [==============================] - 4s 14ms/step - loss: 0.2887 - accuracy: 0.8316\n",
      "Epoch 4/20\n",
      "269/269 [==============================] - 4s 14ms/step - loss: 0.2865 - accuracy: 0.8310\n",
      "Epoch 5/20\n",
      "269/269 [==============================] - 4s 14ms/step - loss: 0.2858 - accuracy: 0.8342\n",
      "Epoch 6/20\n",
      "269/269 [==============================] - 4s 14ms/step - loss: 0.2844 - accuracy: 0.8349\n",
      "Epoch 7/20\n",
      "269/269 [==============================] - 4s 14ms/step - loss: 0.2836 - accuracy: 0.8338\n",
      "Epoch 8/20\n",
      "269/269 [==============================] - 4s 14ms/step - loss: 0.2841 - accuracy: 0.8358\n",
      "Epoch 9/20\n",
      "269/269 [==============================] - 4s 14ms/step - loss: 0.2832 - accuracy: 0.8354\n",
      "Epoch 10/20\n",
      "269/269 [==============================] - 4s 14ms/step - loss: 0.2821 - accuracy: 0.8356\n",
      "Epoch 11/20\n",
      "269/269 [==============================] - 4s 14ms/step - loss: 0.2826 - accuracy: 0.8366\n",
      "Epoch 12/20\n",
      "269/269 [==============================] - 4s 14ms/step - loss: 0.2832 - accuracy: 0.8353\n",
      "Epoch 13/20\n",
      "269/269 [==============================] - 4s 14ms/step - loss: 0.2842 - accuracy: 0.8351\n",
      "Epoch 14/20\n",
      "269/269 [==============================] - 4s 14ms/step - loss: 0.2837 - accuracy: 0.8358\n",
      "Epoch 15/20\n",
      "269/269 [==============================] - 4s 14ms/step - loss: 0.2840 - accuracy: 0.8354\n",
      "Epoch 16/20\n",
      "269/269 [==============================] - 4s 14ms/step - loss: 0.2815 - accuracy: 0.8365\n",
      "Epoch 17/20\n",
      "269/269 [==============================] - 4s 14ms/step - loss: 0.2820 - accuracy: 0.8366\n",
      "Epoch 18/20\n",
      "269/269 [==============================] - 4s 14ms/step - loss: 0.2827 - accuracy: 0.8359\n",
      "Epoch 19/20\n",
      "269/269 [==============================] - 4s 14ms/step - loss: 0.2822 - accuracy: 0.8350\n",
      "Epoch 20/20\n",
      "269/269 [==============================] - 4s 14ms/step - loss: 0.2819 - accuracy: 0.8358\n"
     ]
    },
    {
     "data": {
      "text/plain": [
       "<keras.callbacks.History at 0x20568ea5810>"
      ]
     },
     "execution_count": 10,
     "metadata": {},
     "output_type": "execute_result"
    }
   ],
   "source": [
    "LSTMWithTransformer.fit(x = x_train,y = y_train, epochs= 20, batch_size=128)"
   ]
  }
 ],
 "metadata": {
  "kernelspec": {
   "display_name": "Python 3.10.4 64-bit",
   "language": "python",
   "name": "python3"
  },
  "language_info": {
   "codemirror_mode": {
    "name": "ipython",
    "version": 3
   },
   "file_extension": ".py",
   "mimetype": "text/x-python",
   "name": "python",
   "nbconvert_exporter": "python",
   "pygments_lexer": "ipython3",
   "version": "3.10.4"
  },
  "orig_nbformat": 4,
  "vscode": {
   "interpreter": {
    "hash": "118d2d70b9837ec74e99cd8e271bd7c1e24309015268c38b027840ab45e80ec0"
   }
  }
 },
 "nbformat": 4,
 "nbformat_minor": 2
}
