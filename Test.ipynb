{
 "cells": [
  {
   "cell_type": "code",
   "execution_count": 1,
   "metadata": {},
   "outputs": [],
   "source": [
    "import tensorflow as tf\n",
    "from keras import layers, activations, losses, optimizers, Model\n",
    "from CustomLayer import TransformerBlock\n",
    "import numpy as np"
   ]
  },
  {
   "cell_type": "code",
   "execution_count": 2,
   "metadata": {},
   "outputs": [],
   "source": [
    "feature_path = './dataset/data_feature.npy'\n",
    "label_path = './dataset/data_label.npy'"
   ]
  },
  {
   "cell_type": "code",
   "execution_count": 3,
   "metadata": {},
   "outputs": [],
   "source": [
    "x_train = np.load(feature_path)\n",
    "y_train = np.load(label_path)"
   ]
  },
  {
   "cell_type": "code",
   "execution_count": 4,
   "metadata": {},
   "outputs": [
    {
     "name": "stdout",
     "output_type": "stream",
     "text": [
      "(34424, 7, 113)\n",
      "(34424, 1)\n"
     ]
    }
   ],
   "source": [
    "print(x_train.shape)\n",
    "print(y_train.shape)"
   ]
  },
  {
   "cell_type": "code",
   "execution_count": 5,
   "metadata": {},
   "outputs": [],
   "source": [
    "input = layers.Input((7,113))\n",
    "x = TransformerBlock(113, 7, 113)(input)\n",
    "x = layers.Flatten()(x)\n",
    "output = layers.Dense(1, activation=activations.sigmoid)(x)"
   ]
  },
  {
   "cell_type": "code",
   "execution_count": 6,
   "metadata": {},
   "outputs": [
    {
     "name": "stdout",
     "output_type": "stream",
     "text": [
      "Model: \"model\"\n",
      "_________________________________________________________________\n",
      " Layer (type)                Output Shape              Param #   \n",
      "=================================================================\n",
      " input_1 (InputLayer)        [(None, 7, 113)]          0         \n",
      "                                                                 \n",
      " transformer_block (Transfor  (None, 7, 113)           386234    \n",
      " merBlock)                                                       \n",
      "                                                                 \n",
      " flatten (Flatten)           (None, 791)               0         \n",
      "                                                                 \n",
      " dense_2 (Dense)             (None, 1)                 792       \n",
      "                                                                 \n",
      "=================================================================\n",
      "Total params: 387,026\n",
      "Trainable params: 387,026\n",
      "Non-trainable params: 0\n",
      "_________________________________________________________________\n"
     ]
    }
   ],
   "source": [
    "firstmodel = Model(input,output)\n",
    "firstmodel.compile(loss='BinaryCrossentropy', optimizer=optimizers.adam_v2.Adam(), metrics=['accuracy'])\n",
    "firstmodel.summary()"
   ]
  },
  {
   "cell_type": "code",
   "execution_count": 7,
   "metadata": {},
   "outputs": [
    {
     "name": "stdout",
     "output_type": "stream",
     "text": [
      "Epoch 1/20\n",
      "269/269 [==============================] - 4s 10ms/step - loss: 0.3001 - accuracy: 0.8251\n",
      "Epoch 2/20\n",
      "269/269 [==============================] - 3s 10ms/step - loss: 0.2886 - accuracy: 0.8311\n",
      "Epoch 3/20\n",
      "269/269 [==============================] - 3s 10ms/step - loss: 0.2873 - accuracy: 0.8322\n",
      "Epoch 4/20\n",
      "269/269 [==============================] - 3s 10ms/step - loss: 0.2850 - accuracy: 0.8349\n",
      "Epoch 5/20\n",
      "269/269 [==============================] - 3s 10ms/step - loss: 0.2836 - accuracy: 0.8338\n",
      "Epoch 6/20\n",
      "269/269 [==============================] - 3s 10ms/step - loss: 0.2836 - accuracy: 0.8368\n",
      "Epoch 7/20\n",
      "269/269 [==============================] - 3s 10ms/step - loss: 0.2815 - accuracy: 0.8364\n",
      "Epoch 8/20\n",
      "269/269 [==============================] - 3s 10ms/step - loss: 0.2824 - accuracy: 0.8377\n",
      "Epoch 9/20\n",
      "269/269 [==============================] - 3s 10ms/step - loss: 0.2821 - accuracy: 0.8369\n",
      "Epoch 10/20\n",
      "269/269 [==============================] - 3s 10ms/step - loss: 0.2799 - accuracy: 0.8378\n",
      "Epoch 11/20\n",
      "269/269 [==============================] - 3s 10ms/step - loss: 0.2783 - accuracy: 0.8374\n",
      "Epoch 12/20\n",
      "269/269 [==============================] - 3s 10ms/step - loss: 0.2778 - accuracy: 0.8401\n",
      "Epoch 13/20\n",
      "269/269 [==============================] - 3s 10ms/step - loss: 0.2783 - accuracy: 0.8388\n",
      "Epoch 14/20\n",
      "269/269 [==============================] - 3s 10ms/step - loss: 0.2774 - accuracy: 0.8408\n",
      "Epoch 15/20\n",
      "269/269 [==============================] - 3s 10ms/step - loss: 0.2771 - accuracy: 0.8397\n",
      "Epoch 16/20\n",
      "269/269 [==============================] - 3s 10ms/step - loss: 0.2772 - accuracy: 0.8419\n",
      "Epoch 17/20\n",
      "269/269 [==============================] - 3s 10ms/step - loss: 0.2765 - accuracy: 0.8423\n",
      "Epoch 18/20\n",
      "269/269 [==============================] - 3s 10ms/step - loss: 0.2744 - accuracy: 0.8428\n",
      "Epoch 19/20\n",
      "269/269 [==============================] - 3s 10ms/step - loss: 0.2738 - accuracy: 0.8450\n",
      "Epoch 20/20\n",
      "269/269 [==============================] - 3s 10ms/step - loss: 0.2733 - accuracy: 0.8453\n"
     ]
    },
    {
     "data": {
      "text/plain": [
       "<keras.callbacks.History at 0x238afaa1db0>"
      ]
     },
     "execution_count": 7,
     "metadata": {},
     "output_type": "execute_result"
    }
   ],
   "source": [
    "firstmodel.fit(x = x_train,y = y_train, epochs= 20, batch_size=128)"
   ]
  },
  {
   "cell_type": "code",
   "execution_count": null,
   "metadata": {},
   "outputs": [],
   "source": []
  }
 ],
 "metadata": {
  "kernelspec": {
   "display_name": "Python 3.10.4 64-bit",
   "language": "python",
   "name": "python3"
  },
  "language_info": {
   "codemirror_mode": {
    "name": "ipython",
    "version": 3
   },
   "file_extension": ".py",
   "mimetype": "text/x-python",
   "name": "python",
   "nbconvert_exporter": "python",
   "pygments_lexer": "ipython3",
   "version": "3.10.4"
  },
  "orig_nbformat": 4,
  "vscode": {
   "interpreter": {
    "hash": "118d2d70b9837ec74e99cd8e271bd7c1e24309015268c38b027840ab45e80ec0"
   }
  }
 },
 "nbformat": 4,
 "nbformat_minor": 2
}
