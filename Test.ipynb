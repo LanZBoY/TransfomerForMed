{
 "cells": [
  {
   "cell_type": "code",
   "execution_count": 1,
   "metadata": {},
   "outputs": [],
   "source": [
    "import tensorflow as tf\n",
    "from keras import layers, activations, losses, optimizers, Model\n",
    "from CustomLayer import TransformerBlock\n",
    "import numpy as np"
   ]
  },
  {
   "cell_type": "code",
   "execution_count": 2,
   "metadata": {},
   "outputs": [],
   "source": [
    "feature_path = './dataset/data_feature.npy'\n",
    "label_path = './dataset/data_label.npy'"
   ]
  },
  {
   "cell_type": "code",
   "execution_count": 3,
   "metadata": {},
   "outputs": [],
   "source": [
    "x_train = np.load(feature_path)\n",
    "y_train = np.load(label_path)"
   ]
  },
  {
   "cell_type": "code",
   "execution_count": 4,
   "metadata": {},
   "outputs": [
    {
     "name": "stdout",
     "output_type": "stream",
     "text": [
      "(34424, 7, 113)\n",
      "(34424, 1)\n"
     ]
    }
   ],
   "source": [
    "print(x_train.shape)\n",
    "print(y_train.shape)"
   ]
  },
  {
   "cell_type": "code",
   "execution_count": 5,
   "metadata": {},
   "outputs": [],
   "source": [
    "input = layers.Input((7,113))\n",
    "x = TransformerBlock(113, 7, 113)(input)\n",
    "x = layers.Flatten()(x)\n",
    "output = layers.Dense(1, activation=activations.sigmoid)(x)"
   ]
  },
  {
   "cell_type": "code",
   "execution_count": 6,
   "metadata": {},
   "outputs": [
    {
     "name": "stdout",
     "output_type": "stream",
     "text": [
      "Model: \"model\"\n",
      "_________________________________________________________________\n",
      " Layer (type)                Output Shape              Param #   \n",
      "=================================================================\n",
      " input_1 (InputLayer)        [(None, 7, 113)]          0         \n",
      "                                                                 \n",
      " transformer_block (Transfor  (None, 7, 113)           386234    \n",
      " merBlock)                                                       \n",
      "                                                                 \n",
      " flatten (Flatten)           (None, 791)               0         \n",
      "                                                                 \n",
      " dense_2 (Dense)             (None, 1)                 792       \n",
      "                                                                 \n",
      "=================================================================\n",
      "Total params: 387,026\n",
      "Trainable params: 387,026\n",
      "Non-trainable params: 0\n",
      "_________________________________________________________________\n"
     ]
    }
   ],
   "source": [
    "firstmodel = Model(input, output)\n",
    "firstmodel.compile(loss='BinaryCrossentropy', optimizer=optimizers.adam_v2.Adam(), metrics=['accuracy'])\n",
    "firstmodel.summary()"
   ]
  },
  {
   "cell_type": "code",
   "execution_count": 7,
   "metadata": {},
   "outputs": [
    {
     "name": "stdout",
     "output_type": "stream",
     "text": [
      "Epoch 1/20\n",
      "269/269 [==============================] - 4s 11ms/step - loss: 0.2996 - accuracy: 0.8256\n",
      "Epoch 2/20\n",
      "269/269 [==============================] - 3s 10ms/step - loss: 0.2882 - accuracy: 0.8314\n",
      "Epoch 3/20\n",
      "269/269 [==============================] - 3s 11ms/step - loss: 0.2890 - accuracy: 0.8313\n",
      "Epoch 4/20\n",
      "269/269 [==============================] - 3s 10ms/step - loss: 0.2874 - accuracy: 0.8317\n",
      "Epoch 5/20\n",
      "269/269 [==============================] - 3s 10ms/step - loss: 0.2839 - accuracy: 0.8349\n",
      "Epoch 6/20\n",
      "269/269 [==============================] - 3s 10ms/step - loss: 0.2826 - accuracy: 0.8356\n",
      "Epoch 7/20\n",
      "269/269 [==============================] - 3s 10ms/step - loss: 0.2814 - accuracy: 0.8357\n",
      "Epoch 8/20\n",
      "269/269 [==============================] - 3s 10ms/step - loss: 0.2810 - accuracy: 0.8384\n",
      "Epoch 9/20\n",
      "269/269 [==============================] - 3s 10ms/step - loss: 0.2795 - accuracy: 0.8382\n",
      "Epoch 10/20\n",
      "269/269 [==============================] - 3s 10ms/step - loss: 0.2808 - accuracy: 0.8372\n",
      "Epoch 11/20\n",
      "269/269 [==============================] - 3s 10ms/step - loss: 0.2777 - accuracy: 0.8399\n",
      "Epoch 12/20\n",
      "269/269 [==============================] - 3s 10ms/step - loss: 0.2783 - accuracy: 0.8387\n",
      "Epoch 13/20\n",
      "269/269 [==============================] - 3s 10ms/step - loss: 0.2776 - accuracy: 0.8407\n",
      "Epoch 14/20\n",
      "269/269 [==============================] - 3s 10ms/step - loss: 0.2767 - accuracy: 0.8413\n",
      "Epoch 15/20\n",
      "269/269 [==============================] - 3s 10ms/step - loss: 0.2767 - accuracy: 0.8417\n",
      "Epoch 16/20\n",
      "269/269 [==============================] - 3s 10ms/step - loss: 0.2753 - accuracy: 0.8407\n",
      "Epoch 17/20\n",
      "269/269 [==============================] - 3s 10ms/step - loss: 0.2752 - accuracy: 0.8430\n",
      "Epoch 18/20\n",
      "269/269 [==============================] - 3s 10ms/step - loss: 0.2742 - accuracy: 0.8449\n",
      "Epoch 19/20\n",
      "269/269 [==============================] - 3s 10ms/step - loss: 0.2739 - accuracy: 0.8439\n",
      "Epoch 20/20\n",
      "269/269 [==============================] - 3s 10ms/step - loss: 0.2743 - accuracy: 0.8429\n"
     ]
    },
    {
     "data": {
      "text/plain": [
       "<keras.callbacks.History at 0x19f98fa34c0>"
      ]
     },
     "execution_count": 7,
     "metadata": {},
     "output_type": "execute_result"
    }
   ],
   "source": [
    "firstmodel.fit(x = x_train,y = y_train, epochs= 20, batch_size=128)"
   ]
  },
  {
   "cell_type": "code",
   "execution_count": 8,
   "metadata": {},
   "outputs": [
    {
     "name": "stdout",
     "output_type": "stream",
     "text": [
      "Model: \"model_1\"\n",
      "_________________________________________________________________\n",
      " Layer (type)                Output Shape              Param #   \n",
      "=================================================================\n",
      " input_2 (InputLayer)        [(None, 7, 113)]          0         \n",
      "                                                                 \n",
      " transformer_block_1 (Transf  (None, 7, 113)           386234    \n",
      " ormerBlock)                                                     \n",
      "                                                                 \n",
      " transformer_block_2 (Transf  (None, 7, 113)           386234    \n",
      " ormerBlock)                                                     \n",
      "                                                                 \n",
      " flatten_1 (Flatten)         (None, 791)               0         \n",
      "                                                                 \n",
      " dense_7 (Dense)             (None, 1)                 792       \n",
      "                                                                 \n",
      "=================================================================\n",
      "Total params: 773,260\n",
      "Trainable params: 773,260\n",
      "Non-trainable params: 0\n",
      "_________________________________________________________________\n"
     ]
    }
   ],
   "source": [
    "input = layers.Input((7,113))\n",
    "x = TransformerBlock(113, 7, 113)(input)\n",
    "x = TransformerBlock(113, 7, 113)(x)\n",
    "x = layers.Flatten()(x)\n",
    "output = layers.Dense(1, activation=activations.sigmoid)(x)\n",
    "\n",
    "secondModel = Model(input, output)\n",
    "secondModel.compile(loss='BinaryCrossentropy', optimizer=optimizers.adam_v2.Adam(), metrics=['accuracy'])\n",
    "secondModel.summary()"
   ]
  },
  {
   "cell_type": "code",
   "execution_count": 9,
   "metadata": {},
   "outputs": [
    {
     "name": "stdout",
     "output_type": "stream",
     "text": [
      "Epoch 1/20\n",
      "269/269 [==============================] - 6s 18ms/step - loss: 0.3013 - accuracy: 0.8216\n",
      "Epoch 2/20\n",
      "269/269 [==============================] - 5s 18ms/step - loss: 0.2924 - accuracy: 0.8275\n",
      "Epoch 3/20\n",
      "269/269 [==============================] - 5s 18ms/step - loss: 0.2879 - accuracy: 0.8328\n",
      "Epoch 4/20\n",
      "269/269 [==============================] - 5s 18ms/step - loss: 0.2856 - accuracy: 0.8323\n",
      "Epoch 5/20\n",
      "269/269 [==============================] - 5s 18ms/step - loss: 0.2852 - accuracy: 0.8339\n",
      "Epoch 6/20\n",
      "269/269 [==============================] - 5s 18ms/step - loss: 0.2826 - accuracy: 0.8366\n",
      "Epoch 7/20\n",
      "269/269 [==============================] - 5s 18ms/step - loss: 0.2817 - accuracy: 0.8371\n",
      "Epoch 8/20\n",
      "269/269 [==============================] - 5s 18ms/step - loss: 0.2802 - accuracy: 0.8360\n",
      "Epoch 9/20\n",
      "269/269 [==============================] - 5s 18ms/step - loss: 0.2813 - accuracy: 0.8353\n",
      "Epoch 10/20\n",
      "269/269 [==============================] - 5s 18ms/step - loss: 0.2799 - accuracy: 0.8374\n",
      "Epoch 11/20\n",
      "269/269 [==============================] - 5s 18ms/step - loss: 0.2810 - accuracy: 0.8359\n",
      "Epoch 12/20\n",
      "269/269 [==============================] - 5s 18ms/step - loss: 0.2781 - accuracy: 0.8401\n",
      "Epoch 13/20\n",
      "269/269 [==============================] - 5s 18ms/step - loss: 0.2782 - accuracy: 0.8378\n",
      "Epoch 14/20\n",
      "269/269 [==============================] - 5s 18ms/step - loss: 0.2768 - accuracy: 0.8393\n",
      "Epoch 15/20\n",
      "269/269 [==============================] - 5s 18ms/step - loss: 0.2771 - accuracy: 0.8416\n",
      "Epoch 16/20\n",
      "269/269 [==============================] - 5s 18ms/step - loss: 0.2772 - accuracy: 0.8395\n",
      "Epoch 17/20\n",
      "269/269 [==============================] - 5s 18ms/step - loss: 0.2766 - accuracy: 0.8403\n",
      "Epoch 18/20\n",
      "269/269 [==============================] - 5s 18ms/step - loss: 0.2778 - accuracy: 0.8401\n",
      "Epoch 19/20\n",
      "269/269 [==============================] - 5s 18ms/step - loss: 0.2752 - accuracy: 0.8420\n",
      "Epoch 20/20\n",
      "269/269 [==============================] - 5s 18ms/step - loss: 0.2752 - accuracy: 0.8437\n"
     ]
    },
    {
     "data": {
      "text/plain": [
       "<keras.callbacks.History at 0x19fff067ee0>"
      ]
     },
     "execution_count": 9,
     "metadata": {},
     "output_type": "execute_result"
    }
   ],
   "source": [
    "secondModel.fit(x = x_train,y = y_train, epochs= 20, batch_size=128)"
   ]
  }
 ],
 "metadata": {
  "kernelspec": {
   "display_name": "Python 3.10.4 64-bit",
   "language": "python",
   "name": "python3"
  },
  "language_info": {
   "codemirror_mode": {
    "name": "ipython",
    "version": 3
   },
   "file_extension": ".py",
   "mimetype": "text/x-python",
   "name": "python",
   "nbconvert_exporter": "python",
   "pygments_lexer": "ipython3",
   "version": "3.10.4"
  },
  "orig_nbformat": 4,
  "vscode": {
   "interpreter": {
    "hash": "118d2d70b9837ec74e99cd8e271bd7c1e24309015268c38b027840ab45e80ec0"
   }
  }
 },
 "nbformat": 4,
 "nbformat_minor": 2
}
